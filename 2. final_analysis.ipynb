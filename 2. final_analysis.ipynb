{
 "cells": [
  {
   "cell_type": "code",
   "execution_count": 1,
   "metadata": {},
   "outputs": [
    {
     "name": "stderr",
     "output_type": "stream",
     "text": [
      "Using TensorFlow backend.\n"
     ]
    }
   ],
   "source": [
    "from scipy.spatial import distance as dist\n",
    "from imutils import perspective\n",
    "from imutils import contours\n",
    "import numpy as np\n",
    "import argparse\n",
    "import imutils\n",
    "import cv2\n",
    "import os\n",
    "import pandas as pd\n",
    "import datetime as dt\n",
    "from matplotlib.pyplot import imread\n",
    "from keras.models import load_model\n",
    "from PIL import Image\n",
    "from tqdm import tqdm_notebook\n",
    "import scipy\n",
    "from keras.models import load_model\n",
    "import itertools\n",
    "import cx_Oracle"
   ]
  },
  {
   "cell_type": "markdown",
   "metadata": {},
   "source": [
    "# 함수 정의"
   ]
  },
  {
   "cell_type": "markdown",
   "metadata": {},
   "source": [
    "### load_images(경로, 파일이름) : 이미지 파일 불러오기\n",
    "- pred()에 사용"
   ]
  },
  {
   "cell_type": "code",
   "execution_count": 2,
   "metadata": {},
   "outputs": [],
   "source": [
    "def load_images(default_path, file_names):\n",
    "    images = []\n",
    "\n",
    "    for file_name in file_names:\n",
    "        filepath = default_path + file_name\n",
    "        \n",
    "        # 파일 읽기\n",
    "        image = imread(filepath)\n",
    "        # 이미지 파일 리스트에 추가\n",
    "        images.append(image) \n",
    "\n",
    "    # 이미지 파일 numpy 배열로 변환\n",
    "    images = np.array(images) \n",
    "    return images"
   ]
  },
  {
   "cell_type": "markdown",
   "metadata": {},
   "source": [
    "### load_images_cv(경로, 파일이름) : 이미지 파일 불러오기\n",
    "- pepper_att(), size(), color_pct()에 사용"
   ]
  },
  {
   "cell_type": "code",
   "execution_count": 16,
   "metadata": {},
   "outputs": [],
   "source": [
    "def load_images_cv(default_path, file_names):\n",
    "    images = []\n",
    "\n",
    "    for file_name in file_names:\n",
    "        filepath = default_path + file_name\n",
    "\n",
    "        image = cv2.imread(filepath)\n",
    "        images.append(image)\n",
    "\n",
    "    images = np.array(images)\n",
    "\n",
    "    return images"
   ]
  },
  {
   "cell_type": "markdown",
   "metadata": {},
   "source": [
    "### resize_image(이미지, (가로사이즈, 세로사이즈)) : 리사이즈\n",
    "- 이미지는 배열형태이어야 함!"
   ]
  },
  {
   "cell_type": "code",
   "execution_count": 3,
   "metadata": {},
   "outputs": [],
   "source": [
    "def resize_image(original_images, size):\n",
    "    resized_images = []\n",
    "    \n",
    "    for image in original_images:\n",
    "        resized_image = np.array(Image.fromarray(image).resize(size))\n",
    "        resized_images.append(resized_image)\n",
    "        \n",
    "    resized_images = np.array(resized_images)\n",
    "    \n",
    "    return resized_images"
   ]
  },
  {
   "cell_type": "markdown",
   "metadata": {},
   "source": [
    "### size(images) : 가로 세로 길이구하기"
   ]
  },
  {
   "cell_type": "code",
   "execution_count": 4,
   "metadata": {},
   "outputs": [],
   "source": [
    "def midpoint(ptA, ptB):\n",
    "    return ((ptA[0] + ptB[0]) * 0.5, (ptA[1] + ptB[1]) * 0.5)"
   ]
  },
  {
   "cell_type": "code",
   "execution_count": 5,
   "metadata": {},
   "outputs": [],
   "source": [
    "def size(images):\n",
    "    \n",
    "    result = []\n",
    "    \n",
    "    for image in images:\n",
    "    \n",
    "        size_list = []\n",
    "        \n",
    "        # 기준선(5cm) 추가\n",
    "        cv2.line(image,(10,10),(100,10),(0,0,0),1)\n",
    "        # 흑백으로 바꾸고 약간의 블러처리하기\n",
    "        gray = cv2.cvtColor(image, cv2.COLOR_BGR2GRAY)\n",
    "        gray = cv2.GaussianBlur(gray, (3, 3), 0)\n",
    "\n",
    "        # 가장자리 찾고, dilation + erosion 하기\n",
    "        edged = cv2.Canny(gray, 50, 100)\n",
    "        edged = cv2.dilate(edged, None, iterations=1)\n",
    "        edged = cv2.erode(edged, None, iterations=1)\n",
    "\n",
    "        # 윤곽이 있는 부분 찾기\n",
    "        cnts = cv2.findContours(edged.copy(), cv2.RETR_EXTERNAL,\n",
    "            cv2.CHAIN_APPROX_SIMPLE)\n",
    "        cnts = imutils.grab_contours(cnts)\n",
    "\n",
    "        # 왼쪽 이미지 -> 오른쪽 이미지 순으로 정렬하기\n",
    "        (cnts, _) = contours.sort_contours(cnts)\n",
    "        pixelsPerMetric = None \n",
    "\n",
    "        # 첫번째 윤곽선(5cm짜리 선) 제외하고 윤곽선 면적순으로 정렬하기\n",
    "        n_cnts = list(cnts)\n",
    "        n_cnts[1:] = sorted(n_cnts[1:], key=lambda x: cv2.contourArea(x), reverse=True)\n",
    "\n",
    "        cnts = tuple(n_cnts)\n",
    "\n",
    "        # 첫번째 윤곽선(5cm짜리 선)과 두번째 윤곽선(고추) 길이 구하기\n",
    "        for c in cnts[:2]:\n",
    "            # 윤곽선의 박스 구하기\n",
    "            orig = image.copy()\n",
    "            box = cv2.minAreaRect(c)\n",
    "            box = cv2.cv.BoxPoints(box) if imutils.is_cv2() else cv2.boxPoints(box)\n",
    "            box = np.array(box, dtype=\"int\")\n",
    "\n",
    "            # 박스의 꼭지점 정렬하기(top-left, top-right, bottom-right, and bottom-left)\n",
    "            box = perspective.order_points(box)\n",
    "\n",
    "            # 두 꼭지점의 중간점 구하기\n",
    "            (tl, tr, br, bl) = box\n",
    "            (tltrX, tltrY) = midpoint(tl, tr)\n",
    "            (blbrX, blbrY) = midpoint(bl, br)\n",
    "            (tlblX, tlblY) = midpoint(tl, bl)\n",
    "            (trbrX, trbrY) = midpoint(tr, br)\n",
    "\n",
    "            # 중간점의 유클라디안 거리 구하기\n",
    "            dA = dist.euclidean((tltrX, tltrY), (blbrX, blbrY))\n",
    "            dB = dist.euclidean((tlblX, tlblY), (trbrX, trbrY))\n",
    "\n",
    "            # 길이 구하기\n",
    "            if pixelsPerMetric is None:\n",
    "                pixelsPerMetric = dB / 5\n",
    "            dimA = round(dA / pixelsPerMetric,1)\n",
    "            dimB = round(dB / pixelsPerMetric,1)\n",
    "            \n",
    "            # 저장\n",
    "            size_list.append([dimA, dimB])\n",
    "        \n",
    "        try:\n",
    "            result.append(size_list[1])\n",
    "        except:\n",
    "            result.append([-1,-1])\n",
    "        \n",
    "    result = np.array(result)\n",
    "        \n",
    "    return result"
   ]
  },
  {
   "cell_type": "markdown",
   "metadata": {},
   "source": [
    "### color_pct(image) : 색상구하기"
   ]
  },
  {
   "cell_type": "code",
   "execution_count": 6,
   "metadata": {},
   "outputs": [],
   "source": [
    "def color_pct(images):\n",
    "    \n",
    "    for image in images:\n",
    "        # 이미지 불러오기\n",
    "        height, width = image.shape[:2]\n",
    "        image = cv2.resize(image, (width, height),\n",
    "                             interpolation=cv2.INTER_AREA)\n",
    "\n",
    "        # red, green range 설정하기\n",
    "        lower1 = np.array([0, 30, 30])\n",
    "        upper1 = np.array([180, 255, 255])\n",
    "\n",
    "        # HSV로 변환.\n",
    "        img_hsv = cv2.cvtColor(image, cv2.COLOR_BGR2HSV)\n",
    "\n",
    "        # range 설정한 범위 값으로 HSV 이미지에서 마스크 생성\n",
    "        img_mask = cv2.inRange(img_hsv, lower1, upper1)\n",
    "\n",
    "        # 원본 이미지에서 마스크 범위값에 해당되는 부분 구하기\n",
    "        img_result = cv2.bitwise_and(image, image, mask=img_mask)\n",
    "\n",
    "        # result 이미지를 hsv로 변환\n",
    "        img_result_hsv = cv2.cvtColor(img_result, cv2.COLOR_BGR2HSV)\n",
    "\n",
    "        # h s v 채널로 나누기\n",
    "        h, s, v = cv2.split(img_result_hsv)\n",
    "\n",
    "        # result 이미지 중 h 채널의 전체 픽셀수\n",
    "        result_cnt_ttl = (np.where(h>0,1,0).sum())\n",
    "        result_cnt_ttl2 = (np.where(v>0,1,0).sum())\n",
    "\n",
    "        # h채널 중 red 픽셀 수\n",
    "        result_cnt_red=(np.where((((h>0) & (h<=15)) | ((h>=165) & (h<=180))) ,1,0).sum())\n",
    "\n",
    "         # h채널 중 green 픽셀 수\n",
    "        result_cnt_green = (np.where(((h>=25) & (h<=55)) ,1,0).sum())\n",
    "\n",
    "        # h채널 중 dark red 픽셀수\n",
    "        result_cnt_darkred = (np.where(((((h>0) & (h<=15)) \n",
    "                                        | ((h>=165) & (h<=180)))\n",
    "                                        &((v>0)&(v<60))) ,1,0).sum())\n",
    "\n",
    "        result = []\n",
    "        \n",
    "        try:\n",
    "            # red 픽셀 비율, green 픽셀 비율\n",
    "            result1= (int(result_cnt_red / result_cnt_ttl * 100))\n",
    "            result2= (int(result_cnt_green / result_cnt_ttl * 100))\n",
    "            result3= (int(result_cnt_darkred / result_cnt_ttl * 100))\n",
    "\n",
    "            # 고추 색 분류하기\n",
    "            if ((result1>75) & (result3<5)):\n",
    "                color = '빨간고추'\n",
    "            elif(result2>80):\n",
    "                color = '초록고추'\n",
    "            elif(result1<70 & result2<70 & result3>2):\n",
    "                color = '섞인고추'\n",
    "            else:\n",
    "                color = '섞인고추'\n",
    "            result.append([color, result1, result2, result3])\n",
    "\n",
    "        except:\n",
    "            result.append([-1,-1,-1,-1])\n",
    "            \n",
    "    result = np.array(result)\n",
    "        \n",
    "    return result"
   ]
  },
  {
   "cell_type": "markdown",
   "metadata": {},
   "source": [
    "### pepper_att(경로, 파일이름) : size(), color_pct() 이용하여 길이, 색상 구하기"
   ]
  },
  {
   "cell_type": "code",
   "execution_count": 7,
   "metadata": {},
   "outputs": [],
   "source": [
    "def pepper_att(path_dir,name_file):\n",
    "    \n",
    "    images = load_images_cv(path_dir,name_file)\n",
    "    \n",
    "    length = size(images)\n",
    "    width = length.min(axis=1)\n",
    "    height = length.max(axis=1)\n",
    "    \n",
    "    width = width.reshape(-1,1)\n",
    "    height = height.reshape(-1,1)\n",
    "    \n",
    "    color_group = color_pct(images)\n",
    "    color = color_group[:,0]\n",
    "    red = color_group[:,1]\n",
    "    green = color_group[:,2]\n",
    "    darkred = color_group[:,3]\n",
    "    \n",
    "    name_file = np.array(name_file).reshape(-1,1)\n",
    "    \n",
    "    info = np.concatenate((width, height, color_group, name_file), axis=1)\n",
    "    \n",
    "    return info"
   ]
  },
  {
   "cell_type": "markdown",
   "metadata": {},
   "source": [
    "### pred(경로, 파일이름, model1, model2) : 이진분류모델 predict 결과 구하기"
   ]
  },
  {
   "cell_type": "code",
   "execution_count": 21,
   "metadata": {},
   "outputs": [],
   "source": [
    "def pred(default_path, file_names, model1, model2):\n",
    "\n",
    "    images_arr = load_images(default_path, file_names)\n",
    "\n",
    "    images_resize = resize_image(images_arr,(224,224))\n",
    "\n",
    "    predict1 = model1.predict_classes(images_resize)\n",
    "    predict2 = model2.predict_classes(images_resize)\n",
    "\n",
    "    file_names = np.array(file_names)\n",
    "    file_names = file_names.reshape(-1,1)\n",
    "    data = np.concatenate((predict1, predict2), axis=1)\n",
    "\n",
    "    return data"
   ]
  },
  {
   "cell_type": "markdown",
   "metadata": {},
   "source": [
    "### group(array_result): 등급 분류()\n",
    "- predict1 : 0  -> 폐기\n",
    "- predict1 : 1 & predict2 : 0 -> 보통    \n",
    "- predict1 : 1 & predict2 : 1 & color : 섞인고추 -> 보통\n",
    "- predict1 : 1 & predict2 : 1 & color : 빨간고추,초록고추 -> 특상"
   ]
  },
  {
   "cell_type": "code",
   "execution_count": 9,
   "metadata": {},
   "outputs": [],
   "source": [
    "def group(data):\n",
    "    \n",
    "    pre1 = data[:,0].astype(np.float32)\n",
    "    pre2 = data[:,1].astype(np.float32)\n",
    "    color = data[:,2]\n",
    "\n",
    "    g = np.where(color== -1, '확인필요', '')\n",
    "    g = np.where(pre1 == 0, '폐기', g)\n",
    "    g = np.where((pre1 == 1) & (pre2 == 0), '보통', g)\n",
    "    g = np.where((pre1 == 1) & (pre2 == 1) & (color == '섞인고추') , '보통', g)\n",
    "    g = np.where((pre1 == 1) & (pre2 == 1) & ((color == '빨간고추') | (color == '초록고추')) , '특상', g)\n",
    "\n",
    "    g = g.reshape(-1,1)\n",
    "\n",
    "    return g  "
   ]
  },
  {
   "cell_type": "markdown",
   "metadata": {},
   "source": [
    "# 데이터 분석 시작"
   ]
  },
  {
   "cell_type": "code",
   "execution_count": 10,
   "metadata": {},
   "outputs": [],
   "source": [
    "filepath = 'images/pred/'"
   ]
  },
  {
   "cell_type": "code",
   "execution_count": 11,
   "metadata": {},
   "outputs": [],
   "source": [
    "filename = os.listdir(filepath)"
   ]
  },
  {
   "cell_type": "code",
   "execution_count": 14,
   "metadata": {
    "scrolled": false
   },
   "outputs": [],
   "source": [
    "model1 = load_model(\"bad_dried_good_02_0027_0.2598_0.8799_0.4104_0.8742.hdf5\")\n",
    "model2 = load_model(\"bad_dried_01_0071_0.4553_0.8052_0.4126_0.9492.hdf5\")"
   ]
  },
  {
   "cell_type": "code",
   "execution_count": 22,
   "metadata": {},
   "outputs": [
    {
     "name": "stderr",
     "output_type": "stream",
     "text": [
      "C:\\Users\\-\\Anaconda3\\lib\\site-packages\\ipykernel_launcher.py:10: FutureWarning: elementwise comparison failed; returning scalar instead, but in the future will perform elementwise comparison\n",
      "  # Remove the CWD from sys.path while we load stuff.\n"
     ]
    }
   ],
   "source": [
    "pepper_info = pepper_att(filepath, filename)\n",
    "\n",
    "pepper_pred = pred(filepath, filename, model1, model2)\n",
    "\n",
    "pepper_info = np.concatenate((pepper_info, pepper_pred), axis=1)\n",
    "\n",
    "data = pepper_info[:,[7,8,2]]\n",
    "grade = group(data)\n",
    "\n",
    "pepper_info = np.concatenate((pepper_info, grade), axis=1)"
   ]
  },
  {
   "cell_type": "code",
   "execution_count": 23,
   "metadata": {},
   "outputs": [],
   "source": [
    "col_names = ['width','height','color','red','green','darkred','path','predict1','predict2','grade']\n",
    "pepper_info = pd.DataFrame(pepper_info, columns = col_names)\n",
    "\n",
    "pepper_info['datetime'] = dt.datetime.now().strftime('%y/%m/%d')\n",
    "pepper_info['workplace_no'] = 1\n",
    "pepper_info['no'] = pepper_info['workplace_no'].astype(str) + '_' + pepper_info.index.astype(str)\n",
    "\n",
    "pepper_info = pd.DataFrame(pepper_info, columns = \n",
    "                           ['no','width','height','color','red','green',\n",
    "                            'darkred','path', 'predict1','predict2', 'datetime','workplace_no','grade'])"
   ]
  },
  {
   "cell_type": "markdown",
   "metadata": {},
   "source": [
    "# DB 연동 후 insert"
   ]
  },
  {
   "cell_type": "code",
   "execution_count": null,
   "metadata": {},
   "outputs": [],
   "source": [
    "os.putenv('NLS_LANG','KOREAN_KOREA.KO16MSWIN949')\n",
    "\n",
    "con = cx_Oracle.connect(\"pepper/1234@localhost:1521/xe\")\n",
    "\n",
    "pepper_info['width'] = pepper_info['width'].astype('float64')\n",
    "pepper_info['height'] = pepper_info['height'].astype('float64')\n",
    "pepper_info['red'] = pepper_info['red'].astype('float64')\n",
    "pepper_info['green'] = pepper_info['green'].astype('float64')\n",
    "pepper_info['darkred'] = pepper_info['darkred'].astype('float64')\n",
    "pepper_info['predict1'] = pepper_info['predict1'].astype('float64')\n",
    "pepper_info['predict2'] = pepper_info['predict2'].astype('float64')\n",
    "pepper_info['workplace_no'] = pepper_info['workplace_no'].astype('object')\n",
    "\n",
    "rows = [tuple(x) for x in pepper_info.to_records(index=False)]\n",
    "\n",
    "cursor = con.cursor()\n",
    "\n",
    "cursor.executemany('insert into pepper_info values (:1, :2, :3, :4, :5, :6, :7, :8, :9, :10, :11, :12, :13)', rows)\n",
    "\n",
    "con.commit()\n",
    "\n",
    "con.close()"
   ]
  }
 ],
 "metadata": {
  "kernelspec": {
   "display_name": "Python 3",
   "language": "python",
   "name": "python3"
  },
  "language_info": {
   "codemirror_mode": {
    "name": "ipython",
    "version": 3
   },
   "file_extension": ".py",
   "mimetype": "text/x-python",
   "name": "python",
   "nbconvert_exporter": "python",
   "pygments_lexer": "ipython3",
   "version": "3.7.4"
  }
 },
 "nbformat": 4,
 "nbformat_minor": 2
}
